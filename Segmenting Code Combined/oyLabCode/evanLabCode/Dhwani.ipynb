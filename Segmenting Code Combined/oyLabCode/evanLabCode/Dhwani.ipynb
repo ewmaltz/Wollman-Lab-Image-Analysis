{
 "cells": [
  {
   "cell_type": "code",
   "execution_count": 26,
   "metadata": {},
   "outputs": [
    {
     "ename": "ModuleNotFoundError",
     "evalue": "No module named 'skimage'",
     "output_type": "error",
     "traceback": [
      "\u001b[0;31m---------------------------------------------------------------------------\u001b[0m",
      "\u001b[0;31mModuleNotFoundError\u001b[0m                       Traceback (most recent call last)",
      "\u001b[0;32m<ipython-input-26-33d6106c2cf1>\u001b[0m in \u001b[0;36m<module>\u001b[0;34m\u001b[0m\n\u001b[0;32m----> 1\u001b[0;31m \u001b[0;32mfrom\u001b[0m \u001b[0msegmentCopy\u001b[0m \u001b[0;32mimport\u001b[0m \u001b[0mmultiprocess_segmentation\u001b[0m\u001b[0;34m,\u001b[0m \u001b[0mtrack_cyto_intensities\u001b[0m\u001b[0;34m\u001b[0m\u001b[0;34m\u001b[0m\u001b[0m\n\u001b[0m\u001b[1;32m      2\u001b[0m \u001b[0;32mfrom\u001b[0m \u001b[0mmetadataCopy\u001b[0m \u001b[0;32mimport\u001b[0m \u001b[0mMetadata\u001b[0m\u001b[0;34m\u001b[0m\u001b[0;34m\u001b[0m\u001b[0m\n\u001b[1;32m      3\u001b[0m \u001b[0;32mimport\u001b[0m \u001b[0mpandas\u001b[0m \u001b[0;32mas\u001b[0m \u001b[0mpd\u001b[0m\u001b[0;34m\u001b[0m\u001b[0;34m\u001b[0m\u001b[0m\n\u001b[1;32m      4\u001b[0m \u001b[0;32mimport\u001b[0m \u001b[0mpickle\u001b[0m\u001b[0;34m\u001b[0m\u001b[0;34m\u001b[0m\u001b[0m\n\u001b[1;32m      5\u001b[0m \u001b[0;32mimport\u001b[0m \u001b[0mmatplotlib\u001b[0m\u001b[0;34m.\u001b[0m\u001b[0mpyplot\u001b[0m \u001b[0;32mas\u001b[0m \u001b[0mplt\u001b[0m\u001b[0;34m\u001b[0m\u001b[0;34m\u001b[0m\u001b[0m\n",
      "\u001b[0;32m/bigstore/GeneralStorage/Evan/MAPK_FISH/Segmenting Code Combined/oyLabCode/evanLabCode/segmentCopy.py\u001b[0m in \u001b[0;36m<module>\u001b[0;34m\u001b[0m\n\u001b[1;32m      2\u001b[0m \u001b[0;32mimport\u001b[0m \u001b[0mmultiprocessing\u001b[0m\u001b[0;34m\u001b[0m\u001b[0;34m\u001b[0m\u001b[0m\n\u001b[1;32m      3\u001b[0m \u001b[0;32mfrom\u001b[0m \u001b[0mfunctools\u001b[0m \u001b[0;32mimport\u001b[0m \u001b[0mpartial\u001b[0m\u001b[0;34m\u001b[0m\u001b[0;34m\u001b[0m\u001b[0m\n\u001b[0;32m----> 4\u001b[0;31m \u001b[0;32mfrom\u001b[0m \u001b[0mmetadataCopy\u001b[0m \u001b[0;32mimport\u001b[0m \u001b[0mMetadata\u001b[0m\u001b[0;34m\u001b[0m\u001b[0;34m\u001b[0m\u001b[0m\n\u001b[0m\u001b[1;32m      5\u001b[0m \u001b[0;32mimport\u001b[0m \u001b[0mpywt\u001b[0m\u001b[0;34m\u001b[0m\u001b[0;34m\u001b[0m\u001b[0m\n\u001b[1;32m      6\u001b[0m \u001b[0;32mimport\u001b[0m \u001b[0mmatplotlib\u001b[0m\u001b[0;34m.\u001b[0m\u001b[0mpyplot\u001b[0m \u001b[0;32mas\u001b[0m \u001b[0mplt\u001b[0m\u001b[0;34m\u001b[0m\u001b[0;34m\u001b[0m\u001b[0m\n",
      "\u001b[0;32m/bigstore/GeneralStorage/Evan/MAPK_FISH/Segmenting Code Combined/oyLabCode/evanLabCode/metadataCopy.py\u001b[0m in \u001b[0;36m<module>\u001b[0;34m\u001b[0m\n\u001b[1;32m      9\u001b[0m \u001b[0;32mfrom\u001b[0m \u001b[0mast\u001b[0m \u001b[0;32mimport\u001b[0m \u001b[0mliteral_eval\u001b[0m\u001b[0;34m\u001b[0m\u001b[0;34m\u001b[0m\u001b[0m\n\u001b[1;32m     10\u001b[0m \u001b[0;34m\u001b[0m\u001b[0m\n\u001b[0;32m---> 11\u001b[0;31m \u001b[0;32mfrom\u001b[0m \u001b[0mskimage\u001b[0m \u001b[0;32mimport\u001b[0m \u001b[0mimg_as_float\u001b[0m\u001b[0;34m,\u001b[0m \u001b[0mimg_as_uint\u001b[0m\u001b[0;34m,\u001b[0m \u001b[0mio\u001b[0m\u001b[0;34m\u001b[0m\u001b[0;34m\u001b[0m\u001b[0m\n\u001b[0m\u001b[1;32m     12\u001b[0m \u001b[0;34m\u001b[0m\u001b[0m\n\u001b[1;32m     13\u001b[0m \u001b[0;31m#stkshow imports\u001b[0m\u001b[0;34m\u001b[0m\u001b[0;34m\u001b[0m\u001b[0;34m\u001b[0m\u001b[0m\n",
      "\u001b[0;31mModuleNotFoundError\u001b[0m: No module named 'skimage'"
     ]
    }
   ],
   "source": [
    "from segmentCopy import multiprocess_segmentation, track_cyto_intensities\n",
    "from metadataCopy import Metadata\n",
    "import pandas as pd\n",
    "import pickle\n",
    "import matplotlib.pyplot as plt\n",
    "import numpy as np\n",
    "import os\n",
    "from skimage.exposure import equalize_adapthist\n",
    "import napari\n",
    "from segmentCopy import create_nuc_cyto_visualization\n",
    "base = '/bigstore/GeneralStorage/Evan/MAPK_FISH/Experiment for determining optimal concentrations of ligands/96_well_EGF_mIL3_2020Sep25_V2/'#Extra_Conservative_Rings/'\n",
    "conservative_base = '/bigstore/GeneralStorage/Evan/MAPK_FISH/Experiment for determining optimal concentrations of ligands/96_well_EGF_mIL3_2020Sep25_V2/Extra_Conservative_Rings/'"
   ]
  },
  {
   "cell_type": "code",
   "execution_count": 22,
   "metadata": {},
   "outputs": [
    {
     "ename": "ModuleNotFoundError",
     "evalue": "No module named 'skimage'",
     "output_type": "error",
     "traceback": [
      "\u001b[0;31m---------------------------------------------------------------------------\u001b[0m",
      "\u001b[0;31mModuleNotFoundError\u001b[0m                       Traceback (most recent call last)",
      "\u001b[0;32m<ipython-input-22-aa248544dc2e>\u001b[0m in \u001b[0;36m<module>\u001b[0;34m\u001b[0m\n\u001b[0;32m----> 1\u001b[0;31m \u001b[0;32mimport\u001b[0m \u001b[0mskimage\u001b[0m\u001b[0;34m\u001b[0m\u001b[0;34m\u001b[0m\u001b[0m\n\u001b[0m",
      "\u001b[0;31mModuleNotFoundError\u001b[0m: No module named 'skimage'"
     ]
    }
   ],
   "source": [
    "import skimage"
   ]
  },
  {
   "cell_type": "code",
   "execution_count": 23,
   "metadata": {},
   "outputs": [
    {
     "ename": "NameError",
     "evalue": "name 'Metadata' is not defined",
     "output_type": "error",
     "traceback": [
      "\u001b[0;31m---------------------------------------------------------------------------\u001b[0m",
      "\u001b[0;31mNameError\u001b[0m                                 Traceback (most recent call last)",
      "\u001b[0;32m<ipython-input-23-5a8e599a3131>\u001b[0m in \u001b[0;36m<module>\u001b[0;34m\u001b[0m\n\u001b[0;32m----> 1\u001b[0;31m \u001b[0mmd\u001b[0m \u001b[0;34m=\u001b[0m \u001b[0mMetadata\u001b[0m\u001b[0;34m(\u001b[0m\u001b[0;34m'/bigstore/Images2020/Maeve/MAPK_FISH/96_well_EGF_mIL3_2020Sep25'\u001b[0m\u001b[0;34m)\u001b[0m\u001b[0;34m\u001b[0m\u001b[0;34m\u001b[0m\u001b[0m\n\u001b[0m\u001b[1;32m      2\u001b[0m \u001b[0mpositions\u001b[0m  \u001b[0;34m=\u001b[0m \u001b[0mmd\u001b[0m\u001b[0;34m.\u001b[0m\u001b[0mposnames\u001b[0m\u001b[0;34m\u001b[0m\u001b[0;34m\u001b[0m\u001b[0m\n",
      "\u001b[0;31mNameError\u001b[0m: name 'Metadata' is not defined"
     ]
    }
   ],
   "source": [
    "md = Metadata('/bigstore/Images2020/Maeve/MAPK_FISH/96_well_EGF_mIL3_2020Sep25')\n",
    "positions  = md.posnames"
   ]
  },
  {
   "cell_type": "code",
   "execution_count": 24,
   "metadata": {},
   "outputs": [
    {
     "ename": "NameError",
     "evalue": "name 'positions' is not defined",
     "output_type": "error",
     "traceback": [
      "\u001b[0;31m---------------------------------------------------------------------------\u001b[0m",
      "\u001b[0;31mNameError\u001b[0m                                 Traceback (most recent call last)",
      "\u001b[0;32m<ipython-input-24-70533c1ca3f3>\u001b[0m in \u001b[0;36m<module>\u001b[0;34m\u001b[0m\n\u001b[0;32m----> 1\u001b[0;31m \u001b[0mpositions\u001b[0m\u001b[0;34m\u001b[0m\u001b[0;34m\u001b[0m\u001b[0m\n\u001b[0m",
      "\u001b[0;31mNameError\u001b[0m: name 'positions' is not defined"
     ]
    }
   ],
   "source": [
    "positions"
   ]
  },
  {
   "cell_type": "code",
   "execution_count": 25,
   "metadata": {},
   "outputs": [
    {
     "ename": "NameError",
     "evalue": "name 'track_cyto_intensities' is not defined",
     "output_type": "error",
     "traceback": [
      "\u001b[0;31m---------------------------------------------------------------------------\u001b[0m",
      "\u001b[0;31mNameError\u001b[0m                                 Traceback (most recent call last)",
      "\u001b[0;32m<ipython-input-25-916dc8cb3ba3>\u001b[0m in \u001b[0;36m<module>\u001b[0;34m\u001b[0m\n\u001b[0;32m----> 1\u001b[0;31m track_cyto_intensities('C02', conservative_base+'Long_Term_Test/', \n\u001b[0m\u001b[1;32m      2\u001b[0m                        \u001b[0mcytoplasmic_channels\u001b[0m\u001b[0;34m=\u001b[0m\u001b[0;34m{\u001b[0m\u001b[0;34m'ERK KTR'\u001b[0m\u001b[0;34m:\u001b[0m \u001b[0;34m'Yellow'\u001b[0m\u001b[0;34m,\u001b[0m \u001b[0;34m'JNK KTR'\u001b[0m\u001b[0;34m:\u001b[0m \u001b[0;34m'Orange'\u001b[0m\u001b[0;34m}\u001b[0m\u001b[0;34m,\u001b[0m\u001b[0;34m\u001b[0m\u001b[0;34m\u001b[0m\u001b[0m\n\u001b[1;32m      3\u001b[0m                        \u001b[0mmetadata\u001b[0m\u001b[0;34m=\u001b[0m\u001b[0mmd\u001b[0m\u001b[0;34m,\u001b[0m \u001b[0mnuclear_channel\u001b[0m\u001b[0;34m=\u001b[0m\u001b[0;34m'FarRed'\u001b[0m\u001b[0;34m,\u001b[0m \u001b[0mmemory\u001b[0m\u001b[0;34m=\u001b[0m\u001b[0;36m2\u001b[0m\u001b[0;34m,\u001b[0m \u001b[0mstub_length\u001b[0m\u001b[0;34m=\u001b[0m\u001b[0;36m2\u001b[0m\u001b[0;34m,\u001b[0m\u001b[0;34m\u001b[0m\u001b[0;34m\u001b[0m\u001b[0m\n\u001b[1;32m      4\u001b[0m                        min_track_length=4, keep_frames=[i for i in range(4,56)], nuc_cyto_ring=True, report=True)\n",
      "\u001b[0;31mNameError\u001b[0m: name 'track_cyto_intensities' is not defined"
     ]
    }
   ],
   "source": [
    "track_cyto_intensities('C02', conservative_base+'Long_Term_Test/', \n",
    "                       cytoplasmic_channels={'ERK KTR': 'Yellow', 'JNK KTR': 'Orange'}, \n",
    "                       metadata=md, nuclear_channel='FarRed', memory=2, stub_length=2, \n",
    "                       min_track_length=4, keep_frames=[i for i in range(4,56)], nuc_cyto_ring=True, report=True)"
   ]
  },
  {
   "cell_type": "code",
   "execution_count": null,
   "metadata": {},
   "outputs": [],
   "source": [
    "multiprocess_segmentation(positions=positions, save_path=base, nuclear_channel='FarRed',\n",
    "                          cytoplasmic_channels={'ERK KTR': 'Yellow', 'JNK KTR': 'Orange'}, \n",
    "                          metadata=md, keep_frames=[0,1,2,3], memory=2, stub_length=2, min_track_length=2, \n",
    "                          nuc_cyto_ring=True, report=True)"
   ]
  },
  {
   "cell_type": "code",
   "execution_count": null,
   "metadata": {},
   "outputs": [],
   "source": [
    "import napari\n",
    "from skimage.color import gray2rgb\n",
    "\n",
    "def well_search(base, row, column, marker):\n",
    "    return base+'/'+[i for i in os.listdir(base) if (row + str(column).zfill(2) in i and marker in i and 'Track' in i)][0]"
   ]
  },
  {
   "cell_type": "code",
   "execution_count": null,
   "metadata": {},
   "outputs": [],
   "source": [
    "res = pickle.load(open(well_search(base, 'C', 9, 'ERK'),'rb'))\n",
    "well_search(base, 'C', 9, 'ERK')"
   ]
  },
  {
   "cell_type": "code",
   "execution_count": null,
   "metadata": {},
   "outputs": [],
   "source": [
    "# trajectories\n",
    "cells = [np.array(res.loc[res.particle==i, ['y', 'x']]) for i in np.random.choice(res.particle, 500)]\n",
    "for i in range(500):\n",
    "    plt.plot(cells[i][:,1], cells[i][:,0])\n",
    "plt.show()"
   ]
  },
  {
   "cell_type": "code",
   "execution_count": null,
   "metadata": {},
   "outputs": [],
   "source": [
    "cells = [np.array(res.loc[res.particle==i, '90_intensity']) for i in np.random.choice(res.particle, 500)]\n",
    "cells = [i for i in cells if i.shape[0]==3]\n",
    "plt.plot(np.mean(cells, 0), c='k')\n",
    "plt.plot(np.transpose(cells[:50]), alpha=0.2)\n",
    "plt.show()"
   ]
  },
  {
   "cell_type": "code",
   "execution_count": null,
   "metadata": {},
   "outputs": [],
   "source": [
    "#doses = [100, 50, 10, 7.5, 5, 2.5, 1, 0.5, 0.1, 0.05]\n",
    "wells = ['C02', 'C03', 'C04', 'C05', 'C06', 'C07', 'C08', 'C09']\n",
    "well_intensities = {}\n",
    "for j, well in enumerate(wells):\n",
    "    print(well)\n",
    "    res = pickle.load(open(well_search(base, 'C', j+2, 'ERK'), 'rb'))\n",
    "    well_arr_cyto = md.stkread(Position=wells[j], Channel='Yellow')[:,:,:4]\n",
    "    intensities = {}\n",
    "    for p in np.unique(res.particle):\n",
    "        if res.loc[(res.particle==p)&(res.frame.isin([0,1,2,3]))].shape[0]==4:\n",
    "            intensities[p] = []\n",
    "            for i in range(4):\n",
    "                nuc_coords = np.array(res.loc[(res.particle==p)&(res.frame==i), 'nuc coords'])[0]\n",
    "                cyto_coords = np.array(res.loc[(res.particle==p)&(res.frame==i), 'cyto coords'])[0]\n",
    "                nuc_intensity = np.percentile(well_arr_cyto[nuc_coords[:,0], nuc_coords[:,1], i], 90)\n",
    "                cyto_intensity = np.percentile(well_arr_cyto[cyto_coords[:,0], cyto_coords[:,1], i], 90)\n",
    "                intensities[p].append(nuc_intensity/cyto_intensity)\n",
    "    well_intensities[well] = intensities"
   ]
  },
  {
   "cell_type": "code",
   "execution_count": null,
   "metadata": {},
   "outputs": [],
   "source": [
    "#well_arr_cyto = md.stkread(Position=conservative_wells[j], Channel='Yellow')\n",
    "well_arr_cyto[:,:,[i for i in range(4,56)]].shape"
   ]
  },
  {
   "cell_type": "code",
   "execution_count": null,
   "metadata": {},
   "outputs": [],
   "source": [
    "#doses = [100, 50, 10, 7.5, 5, 2.5, 1, 0.5, 0.1, 0.05]\n",
    "conservative_wells = ['C02', 'C05', 'C06']\n",
    "conservative_well_intensities = {}\n",
    "for j, well in enumerate(conservative_wells):\n",
    "    print(well)\n",
    "    res = pickle.load(open(well_search(conservative_base, 'C', int(well[-1]), 'ERK'), 'rb'))\n",
    "    well_arr_cyto = md.stkread(Position=conservative_wells[j], Channel='Yellow')[:,:,:4]\n",
    "    intensities = {}\n",
    "    for p in np.unique(res.particle):\n",
    "        if res.loc[(res.particle==p)&(res.frame.isin([0,1,2,3]))].shape[0]==4:\n",
    "            intensities[p] = []\n",
    "            for i in range(4):\n",
    "                nuc_coords = np.array(res.loc[(res.particle==p)&(res.frame==i), 'nuc coords'])[0]\n",
    "                cyto_coords = np.array(res.loc[(res.particle==p)&(res.frame==i), 'cyto coords'])[0]\n",
    "                nuc_intensity = np.percentile(well_arr_cyto[nuc_coords[:,0], nuc_coords[:,1], i], 90)\n",
    "                cyto_intensity = np.percentile(well_arr_cyto[cyto_coords[:,0], cyto_coords[:,1], i], 90)\n",
    "                intensities[p].append(nuc_intensity/cyto_intensity)\n",
    "    conservative_well_intensities[well] = intensities"
   ]
  },
  {
   "cell_type": "code",
   "execution_count": null,
   "metadata": {},
   "outputs": [],
   "source": [
    "cells = np.array(list(conservative_well_intensities['C02'].values()))\n",
    "plt.plot(cells[np.random.choice(np.arange(cells.shape[0]), 50)].T)\n",
    "plt.show()"
   ]
  },
  {
   "cell_type": "code",
   "execution_count": null,
   "metadata": {},
   "outputs": [],
   "source": [
    "def cell_change(cell):\n",
    "    return max(cell)/min(cell)\n",
    "\n",
    "changes = {}\n",
    "for j, well in enumerate(wells):\n",
    "    cells = [cell_change(well_intensities[well][p]) for p in well_intensities[well].keys()]\n",
    "    changes[str(well)] = cells\n",
    "plt.rcParams['font.size'] = 14    \n",
    "plt.figure(figsize=(8,6))\n",
    "plt.title('Dose Response')\n",
    "plt.boxplot(changes.values())\n",
    "plt.ylabel('Max N/C Fold Change = Translocation')\n",
    "plt.xlabel('Wells')\n",
    "plt.xticks(np.arange(1,len(wells)+1), wells)\n",
    "plt.ylim(0.9, 1.3)\n",
    "\n",
    "plt.show()"
   ]
  },
  {
   "cell_type": "code",
   "execution_count": null,
   "metadata": {},
   "outputs": [],
   "source": [
    "cons_well_changes = {}\n",
    "for j, well in enumerate(conservative_wells):\n",
    "    cells = [cell_change(conservative_well_intensities[well][p]) for p in conservative_well_intensities[well].keys()]\n",
    "    cons_well_changes[str(well)] = cells\n",
    "    \n",
    "plt.title('Dose Response')\n",
    "plt.boxplot([cons_well_changes['C02'], changes['C02'], cons_well_changes['C05'], changes['C05'], cons_well_changes['C06'], changes['C06']])\n",
    "plt.ylabel('Max N/C Fold Change = Translocation')\n",
    "plt.xlabel('Wells')\n",
    "plt.xticks(np.arange(1,7), ['Cons. C02', 'C02', 'Cons. C05', 'C05', 'Cons. C06', 'C06'])\n",
    "plt.ylim(0.9, 1.3)\n",
    "plt.show()"
   ]
  },
  {
   "cell_type": "code",
   "execution_count": null,
   "metadata": {},
   "outputs": [],
   "source": [
    "well_arr_cyto = md.stkread(Position='C02', Channel='Yellow')[:,:,:4]\n",
    "well_arr_nuc = md.stkread(Position='C02', Channel='FarRed')[:,:,:4]\n",
    "res = pickle.load(open(well_search(base, 'C', 2, 'ERK'), 'rb'))"
   ]
  },
  {
   "cell_type": "code",
   "execution_count": null,
   "metadata": {},
   "outputs": [],
   "source": [
    "from segmentation import label_wvt, watershed_wvt\n",
    "wvt_nuclear = label_wvt(well_arr_nuc)\n",
    "watershed_wvt_nuclear = watershed_wvt(well_arr_nuc,wvt_nuclear)\n",
    "res = pickle.load(open(well_search(base, 'C', 2, 'ERK'), 'rb'))\n"
   ]
  },
  {
   "cell_type": "code",
   "execution_count": null,
   "metadata": {},
   "outputs": [],
   "source": [
    "cyto_coords = [np.concatenate(list(res.loc[res['frame']==i,'cyto coords'])) for i in range(4)]\n",
    "nuc_cyto_movie = create_nuc_cyto_visualization(well_arr_cyto, watershed_wvt_nuclear, cyto_coords)"
   ]
  },
  {
   "cell_type": "code",
   "execution_count": null,
   "metadata": {},
   "outputs": [],
   "source": [
    "adapt_nuc = [equalize_adapthist(well_arr_nuc[:,:,i]) for i in range(4)]"
   ]
  },
  {
   "cell_type": "code",
   "execution_count": null,
   "metadata": {},
   "outputs": [],
   "source": [
    "nuc_movie = create_nuc_cyto_visualization(np.stack(adapt_nuc, -1), watershed_wvt_nuclear, cyto_coords)\n"
   ]
  },
  {
   "cell_type": "code",
   "execution_count": null,
   "metadata": {},
   "outputs": [],
   "source": [
    "with napari.gui_qt():\n",
    "    viewer = napari.view_image(nuc_movie, rgb='RGB')"
   ]
  },
  {
   "cell_type": "code",
   "execution_count": null,
   "metadata": {},
   "outputs": [],
   "source": [
    "#res.loc[(res.particle==p)&(res.frame.isin([0,1,2]))].shape[0]==3\n",
    "res.loc[res['frame']==0, 'nuc coords'][res.loc[res['frame']==0, 'nuc coords'].apply(lambda a: (594 in a) and (1620 in a))]"
   ]
  },
  {
   "cell_type": "code",
   "execution_count": null,
   "metadata": {},
   "outputs": [],
   "source": [
    "# For Specific Cell Movies\n",
    "cyto_coords = [np.concatenate(list(res.loc[(res['frame']==i)&(res['particle']==435),'cyto coords'])) for i in range(4)]\n",
    "nuc_cyto_movie = create_nuc_cyto_visualization(well_arr_cyto, watershed_wvt_nuclear, cyto_coords)"
   ]
  },
  {
   "cell_type": "code",
   "execution_count": null,
   "metadata": {},
   "outputs": [],
   "source": [
    "res.loc[(res['particle']==435), 'cyto coords'].values[0].shape\n"
   ]
  },
  {
   "cell_type": "code",
   "execution_count": null,
   "metadata": {},
   "outputs": [],
   "source": [
    "cyto_435 = []\n",
    "nuc_435 = []\n",
    "cyto_672 = []\n",
    "nuc_672 = []\n",
    "for i in range(4):\n",
    "    cyto_435.append(well_arr_cyto[res.loc[(res['particle']==435), 'cyto coords'].values[i][:,0], \n",
    "                                  res.loc[(res['particle']==435), 'cyto coords'].values[i][:,1], i])\n",
    "    nuc_435.append(well_arr_cyto[res.loc[(res['particle']==435), 'nuc coords'].values[i][:,0], \n",
    "                                  res.loc[(res['particle']==435), 'nuc coords'].values[i][:,1], i])\n",
    "    cyto_672.append(well_arr_cyto[res.loc[(res['particle']==672), 'cyto coords'].values[i][:,0], \n",
    "                                  res.loc[(res['particle']==672), 'cyto coords'].values[i][:,1], i])\n",
    "    nuc_672.append(well_arr_cyto[res.loc[(res['particle']==672), 'nuc coords'].values[i][:,0], \n",
    "                                  res.loc[(res['particle']==672), 'nuc coords'].values[i][:,1], i])"
   ]
  },
  {
   "cell_type": "code",
   "execution_count": null,
   "metadata": {},
   "outputs": [],
   "source": [
    "for i in range(4):\n",
    "    plt.figure(figsize=(12,8))\n",
    "    center = res.loc[(res['particle']==435), 'cyto coords'].values[i].mean(0).astype(np.int)\n",
    "    plt.imshow(well_arr_cyto[center[0]-100:center[0]+100,center[1]-100:center[1]+100, i])\n",
    "    ctemp = res.loc[(res['particle']==435), 'cyto coords'].values[i]\n",
    "    plt.scatter(ctemp[:,1]-center[1]+100, ctemp[:,0]-center[0]+100, s=0.03, c='r')\n",
    "    ntemp = res.loc[(res['particle']==435), 'nuc coords'].values[i]\n",
    "    plt.scatter(ntemp[:,1]-center[1]+100, ntemp[:,0]-center[0]+100, s=0.03, c='r')\n",
    "    plt.show()"
   ]
  },
  {
   "cell_type": "code",
   "execution_count": null,
   "metadata": {},
   "outputs": [],
   "source": [
    "#plt.plot([np.percentile(cyto_435[i], 90) for i in range(4)])\n",
    "#plt.plot([np.percentile(nuc_435[i], 90) for i in range(4)])\n",
    "plt.plot([np.percentile(nuc_435[i], 90)/np.percentile(cyto_435[i], 90) for i in range(4)], label='90th%ile')\n",
    "plt.plot([np.percentile(nuc_435[i], 50)/np.percentile(cyto_435[i], 50) for i in range(4)], label='50th%ile')\n",
    "plt.plot([np.mean(nuc_435[i])/np.mean(cyto_435[i]) for i in range(4)], label='Mean')\n",
    "plt.xlabel('Frames')\n",
    "plt.ylabel('N/C Ratio')\n",
    "plt.legend()\n",
    "plt.show()\n"
   ]
  },
  {
   "cell_type": "code",
   "execution_count": null,
   "metadata": {},
   "outputs": [],
   "source": [
    "for i in range(4):\n",
    "    plt.figure(figsize=(12,8))\n",
    "    center = res.loc[(res['particle']==672), 'cyto coords'].values[i].mean(0).astype(np.int)\n",
    "    plt.imshow(well_arr_cyto[center[0]-100:center[0]+100,center[1]-100:center[1]+100, i])\n",
    "    temp = res.loc[(res['particle']==672), 'cyto coords'].values[i]\n",
    "    plt.scatter(temp[:,1]-center[1]+100, temp[:,0]-center[0]+100, s=0.05, c='r')\n",
    "    plt.show()"
   ]
  },
  {
   "cell_type": "code",
   "execution_count": null,
   "metadata": {},
   "outputs": [],
   "source": [
    "plt.plot([np.percentile(nuc_672[i], 90)/np.percentile(cyto_672[i], 90) for i in range(4)], label='90th%ile')\n",
    "plt.plot([np.percentile(nuc_672[i], 50)/np.percentile(cyto_672[i], 50) for i in range(4)], label='50th%ile')\n",
    "plt.plot([np.mean(nuc_672[i])/np.mean(cyto_672[i]) for i in range(4)], label='Mean')\n",
    "plt.xlabel('Frames')\n",
    "plt.ylabel('N/C Ratio')\n",
    "plt.legend()\n",
    "plt.show()"
   ]
  },
  {
   "cell_type": "code",
   "execution_count": null,
   "metadata": {},
   "outputs": [],
   "source": [
    "plt.hist(res['cyto variability'], bins=1000, alpha=0.5)\n",
    "plt.hist(res['nuc variability'], bins=1000, alpha=0.5)\n",
    "#plt.ylim(0,100)\n",
    "plt.show()\n"
   ]
  },
  {
   "cell_type": "code",
   "execution_count": null,
   "metadata": {},
   "outputs": [],
   "source": [
    "j = 9\n",
    "print('Dose:', doses[4])\n",
    "res = pickle.load(open(well_search(base, 'C', j, 'ERK'), 'rb'))\n",
    "print(well_search(base, 'C', j, 'ERK'))\n",
    "options = [p for p in dose_intensities['C09'] if cell_change(dose_intensities['C09'][p])>1.14]\n",
    "p = options[2]\n",
    "print('Cell:', p, 'out of', len(options), 'options')\n",
    "cell_check = []\n",
    "for i in range(4):\n",
    "    nuc_coords = np.array(res.loc[(res.particle==p)&(res.frame==i), 'nuc coords'])[0]\n",
    "    cyto_coords = np.array(res.loc[(res.particle==p)&(res.frame==i), 'cyto coords'])[0]\n",
    "    cell_check.append(create_nuc_cyto_visualization(well_arr_nuc, i, nuc_coords, cyto_coords))\n"
   ]
  },
  {
   "cell_type": "code",
   "execution_count": null,
   "metadata": {},
   "outputs": [],
   "source": [
    "cell_frames = [equalize_adapthist(i) for i in cell_check]\n",
    "with napari.gui_qt():\n",
    "    viewer = napari.view_image(np.stack(cell_frames), rgb='RGB')"
   ]
  },
  {
   "cell_type": "code",
   "execution_count": null,
   "metadata": {},
   "outputs": [],
   "source": [
    "#results\n",
    "np.stack([np.array([well_arr_cyto[:,:,i]]) for i in range(4)], axis=-1).shape"
   ]
  },
  {
   "cell_type": "code",
   "execution_count": null,
   "metadata": {},
   "outputs": [],
   "source": [
    "doses = [100, 50, 10, 7.5, 5, 2.5, 1, 0.5, 0.1, 0.05]\n",
    "for i, dose in doses: \n",
    "    egf[dose] = \n"
   ]
  },
  {
   "cell_type": "code",
   "execution_count": null,
   "metadata": {},
   "outputs": [],
   "source": [
    "Row C: EGF\n",
    "Row D: mTNFa\n",
    "Row E: IL-3\n",
    "Row F: IL-6\n",
    "Concentrations are in descending order (C02 is 100 ng/uL):\n",
    "egf = {100:, 50:, 10:, 7.5:, 5:, 2.5:, 1:, 0.5:, 0.1:, 0.05:}\n",
    "mtfna = {100:, 50:, 10:, 7.5:, 5:, 2.5:, 1:, 0.5:, 0.1:, 0.05:}\n",
    "il3 = {100:, 50:, 10:, 7.5:, 5:, 2.5:, 1:, 0.5:, 0.1:, 0.05:}\n",
    "il6 = {100:, 50:, 10:, 7.5:, 5:, 2.5:, 1:, 0.5:, 0.1:, 0.05:}"
   ]
  }
 ],
 "metadata": {
  "kernelspec": {
   "display_name": "Python 3",
   "language": "python",
   "name": "python3"
  },
  "language_info": {
   "codemirror_mode": {
    "name": "ipython",
    "version": 3
   },
   "file_extension": ".py",
   "mimetype": "text/x-python",
   "name": "python",
   "nbconvert_exporter": "python",
   "pygments_lexer": "ipython3",
   "version": "3.8.2"
  }
 },
 "nbformat": 4,
 "nbformat_minor": 4
}
